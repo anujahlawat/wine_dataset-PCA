{
 "cells": [
  {
   "cell_type": "code",
   "execution_count": 41,
   "id": "263fe7b2",
   "metadata": {},
   "outputs": [],
   "source": [
    "import warnings\n",
    "warnings.filterwarnings(\"ignore\")"
   ]
  },
  {
   "cell_type": "code",
   "execution_count": 42,
   "id": "e65ae057",
   "metadata": {},
   "outputs": [],
   "source": [
    "import pandas as pd \n",
    "import numpy as np\n",
    "import seaborn as sns\n",
    "import matplotlib.pyplot as plt\n",
    "\n",
    "from sklearn.decomposition import PCA\n",
    "\n",
    "from sklearn.preprocessing import scale "
   ]
  },
  {
   "cell_type": "markdown",
   "id": "809986e9",
   "metadata": {},
   "source": [
    "### 1.importing data"
   ]
  },
  {
   "cell_type": "code",
   "execution_count": 43,
   "id": "f26796f7",
   "metadata": {},
   "outputs": [
    {
     "data": {
      "text/html": [
       "<div>\n",
       "<style scoped>\n",
       "    .dataframe tbody tr th:only-of-type {\n",
       "        vertical-align: middle;\n",
       "    }\n",
       "\n",
       "    .dataframe tbody tr th {\n",
       "        vertical-align: top;\n",
       "    }\n",
       "\n",
       "    .dataframe thead th {\n",
       "        text-align: right;\n",
       "    }\n",
       "</style>\n",
       "<table border=\"1\" class=\"dataframe\">\n",
       "  <thead>\n",
       "    <tr style=\"text-align: right;\">\n",
       "      <th></th>\n",
       "      <th>Type</th>\n",
       "      <th>Alcohol</th>\n",
       "      <th>Malic</th>\n",
       "      <th>Ash</th>\n",
       "      <th>Alcalinity</th>\n",
       "      <th>Magnesium</th>\n",
       "      <th>Phenols</th>\n",
       "      <th>Flavanoids</th>\n",
       "      <th>Nonflavanoids</th>\n",
       "      <th>Proanthocyanins</th>\n",
       "      <th>Color</th>\n",
       "      <th>Hue</th>\n",
       "      <th>Dilution</th>\n",
       "      <th>Proline</th>\n",
       "    </tr>\n",
       "  </thead>\n",
       "  <tbody>\n",
       "    <tr>\n",
       "      <th>0</th>\n",
       "      <td>1</td>\n",
       "      <td>14.23</td>\n",
       "      <td>1.71</td>\n",
       "      <td>2.43</td>\n",
       "      <td>15.6</td>\n",
       "      <td>127</td>\n",
       "      <td>2.80</td>\n",
       "      <td>3.06</td>\n",
       "      <td>0.28</td>\n",
       "      <td>2.29</td>\n",
       "      <td>5.64</td>\n",
       "      <td>1.04</td>\n",
       "      <td>3.92</td>\n",
       "      <td>1065</td>\n",
       "    </tr>\n",
       "    <tr>\n",
       "      <th>1</th>\n",
       "      <td>1</td>\n",
       "      <td>13.20</td>\n",
       "      <td>1.78</td>\n",
       "      <td>2.14</td>\n",
       "      <td>11.2</td>\n",
       "      <td>100</td>\n",
       "      <td>2.65</td>\n",
       "      <td>2.76</td>\n",
       "      <td>0.26</td>\n",
       "      <td>1.28</td>\n",
       "      <td>4.38</td>\n",
       "      <td>1.05</td>\n",
       "      <td>3.40</td>\n",
       "      <td>1050</td>\n",
       "    </tr>\n",
       "    <tr>\n",
       "      <th>2</th>\n",
       "      <td>1</td>\n",
       "      <td>13.16</td>\n",
       "      <td>2.36</td>\n",
       "      <td>2.67</td>\n",
       "      <td>18.6</td>\n",
       "      <td>101</td>\n",
       "      <td>2.80</td>\n",
       "      <td>3.24</td>\n",
       "      <td>0.30</td>\n",
       "      <td>2.81</td>\n",
       "      <td>5.68</td>\n",
       "      <td>1.03</td>\n",
       "      <td>3.17</td>\n",
       "      <td>1185</td>\n",
       "    </tr>\n",
       "    <tr>\n",
       "      <th>3</th>\n",
       "      <td>1</td>\n",
       "      <td>14.37</td>\n",
       "      <td>1.95</td>\n",
       "      <td>2.50</td>\n",
       "      <td>16.8</td>\n",
       "      <td>113</td>\n",
       "      <td>3.85</td>\n",
       "      <td>3.49</td>\n",
       "      <td>0.24</td>\n",
       "      <td>2.18</td>\n",
       "      <td>7.80</td>\n",
       "      <td>0.86</td>\n",
       "      <td>3.45</td>\n",
       "      <td>1480</td>\n",
       "    </tr>\n",
       "    <tr>\n",
       "      <th>4</th>\n",
       "      <td>1</td>\n",
       "      <td>13.24</td>\n",
       "      <td>2.59</td>\n",
       "      <td>2.87</td>\n",
       "      <td>21.0</td>\n",
       "      <td>118</td>\n",
       "      <td>2.80</td>\n",
       "      <td>2.69</td>\n",
       "      <td>0.39</td>\n",
       "      <td>1.82</td>\n",
       "      <td>4.32</td>\n",
       "      <td>1.04</td>\n",
       "      <td>2.93</td>\n",
       "      <td>735</td>\n",
       "    </tr>\n",
       "  </tbody>\n",
       "</table>\n",
       "</div>"
      ],
      "text/plain": [
       "   Type  Alcohol  Malic   Ash  Alcalinity  Magnesium  Phenols  Flavanoids  \\\n",
       "0     1    14.23   1.71  2.43        15.6        127     2.80        3.06   \n",
       "1     1    13.20   1.78  2.14        11.2        100     2.65        2.76   \n",
       "2     1    13.16   2.36  2.67        18.6        101     2.80        3.24   \n",
       "3     1    14.37   1.95  2.50        16.8        113     3.85        3.49   \n",
       "4     1    13.24   2.59  2.87        21.0        118     2.80        2.69   \n",
       "\n",
       "   Nonflavanoids  Proanthocyanins  Color   Hue  Dilution  Proline  \n",
       "0           0.28             2.29   5.64  1.04      3.92     1065  \n",
       "1           0.26             1.28   4.38  1.05      3.40     1050  \n",
       "2           0.30             2.81   5.68  1.03      3.17     1185  \n",
       "3           0.24             2.18   7.80  0.86      3.45     1480  \n",
       "4           0.39             1.82   4.32  1.04      2.93      735  "
      ]
     },
     "execution_count": 43,
     "metadata": {},
     "output_type": "execute_result"
    }
   ],
   "source": [
    "data = pd.read_csv(\"wine.csv\")\n",
    "data.head()"
   ]
  },
  {
   "cell_type": "markdown",
   "id": "d1b933eb",
   "metadata": {},
   "source": [
    "### 2.1 getting data ready"
   ]
  },
  {
   "cell_type": "code",
   "execution_count": 44,
   "id": "997e2e72",
   "metadata": {},
   "outputs": [
    {
     "name": "stdout",
     "output_type": "stream",
     "text": [
      "<class 'pandas.core.frame.DataFrame'>\n",
      "RangeIndex: 178 entries, 0 to 177\n",
      "Data columns (total 14 columns):\n",
      " #   Column           Non-Null Count  Dtype  \n",
      "---  ------           --------------  -----  \n",
      " 0   Type             178 non-null    int64  \n",
      " 1   Alcohol          178 non-null    float64\n",
      " 2   Malic            178 non-null    float64\n",
      " 3   Ash              178 non-null    float64\n",
      " 4   Alcalinity       178 non-null    float64\n",
      " 5   Magnesium        178 non-null    int64  \n",
      " 6   Phenols          178 non-null    float64\n",
      " 7   Flavanoids       178 non-null    float64\n",
      " 8   Nonflavanoids    178 non-null    float64\n",
      " 9   Proanthocyanins  178 non-null    float64\n",
      " 10  Color            178 non-null    float64\n",
      " 11  Hue              178 non-null    float64\n",
      " 12  Dilution         178 non-null    float64\n",
      " 13  Proline          178 non-null    int64  \n",
      "dtypes: float64(11), int64(3)\n",
      "memory usage: 19.6 KB\n"
     ]
    }
   ],
   "source": [
    "data.info()"
   ]
  },
  {
   "cell_type": "code",
   "execution_count": 45,
   "id": "9dbf8634",
   "metadata": {},
   "outputs": [
    {
     "data": {
      "text/plain": [
       "array([1, 2, 3], dtype=int64)"
      ]
     },
     "execution_count": 45,
     "metadata": {},
     "output_type": "execute_result"
    }
   ],
   "source": [
    "data['Type'].unique()"
   ]
  },
  {
   "cell_type": "markdown",
   "id": "a6f17971",
   "metadata": {},
   "source": [
    "### 2.2 detecting outliers"
   ]
  },
  {
   "cell_type": "code",
   "execution_count": 46,
   "id": "004ce069",
   "metadata": {},
   "outputs": [
    {
     "data": {
      "image/png": "[encoded data removed]",
      "text/plain": [
       "<Figure size 1224x1080 with 14 Axes>"
      ]
     },
     "metadata": {
      "needs_background": "light"
     },
     "output_type": "display_data"
    }
   ],
   "source": [
    "import seaborn as sns\n",
    "\n",
    "plt.figure(figsize=(17,15)) \n",
    "\n",
    "plt.subplot(5,3,1)\n",
    "sns.distplot(data['Type'],bins=10,  kde = True, color =  'red' )      \n",
    "plt.subplot(5,3,2)\n",
    "sns.distplot(data['Alcohol'],bins=10,  kde = True, color =  'red' )\n",
    "plt.subplot(5,3,3)\n",
    "sns.distplot(data['Malic'],bins=10,  kde = True, color =  'red' )    \n",
    "plt.subplot(5,3,4)\n",
    "sns.distplot(data['Ash'],bins=10,  kde = True, color =  'red' )      \n",
    "plt.subplot(5,3,5)\n",
    "sns.distplot(data['Alcalinity'],bins=10,  kde = True, color =  'red' )      \n",
    "plt.subplot(5,3,6)\n",
    "sns.distplot(data['Magnesium'],bins=10,  kde = True, color =  'red' )      \n",
    "plt.subplot(5,3,7)\n",
    "sns.distplot(data['Phenols'],bins=10,  kde = True, color =  'red' )      \n",
    "plt.subplot(5,3,8)\n",
    "sns.distplot(data['Flavanoids'],bins=10,  kde = True, color =  'red' )      \n",
    "plt.subplot(5,3,9)\n",
    "sns.distplot(data['Nonflavanoids'],bins=10,  kde = True, color =  'red' )      \n",
    "plt.subplot(5,3,10)\n",
    "sns.distplot(data['Proanthocyanins'],bins=10,  kde = True, color =  'red' )      \n",
    "plt.subplot(5,3,11)\n",
    "sns.distplot(data['Color'],bins=10,  kde = True, color =  'red' )      \n",
    "plt.subplot(5,3,12)\n",
    "sns.distplot(data['Hue'],bins=10,  kde = True, color =  'red' ) \n",
    "plt.subplot(5,3,13)\n",
    "sns.distplot(data['Dilution'],bins=10,  kde = True, color =  'red' ) \n",
    "plt.subplot(5,3,14)\n",
    "sns.distplot(data['Proline'],bins=10,  kde = True, color =  'red' ) \n",
    "\n",
    "plt.show()\n",
    "\n",
    "#for perfectly skewed N.D. kurtosis = 3"
   ]
  },
  {
   "cell_type": "code",
   "execution_count": 47,
   "id": "527f888c",
   "metadata": {},
   "outputs": [
    {
     "data": {
      "image/png": "[encoded data removed]",
      "text/plain": [
       "<Figure size 720x288 with 1 Axes>"
      ]
     },
     "metadata": {
      "needs_background": "light"
     },
     "output_type": "display_data"
    },
    {
     "data": {
      "text/plain": [
       "[array([1.6025, 0.74  ]), array([3.0825, 5.19  ])]"
      ]
     },
     "execution_count": 47,
     "metadata": {},
     "output_type": "execute_result"
    }
   ],
   "source": [
    "plt.figure(figsize=(10,4))                                                   #setting the frame using figure size\n",
    "#figsize = plt.figaspect(9/6)                                                #setting the frame using aspect ratio\n",
    "plt.title(\"box plot\", fontsize = 16, fontweight = \"bold\")                    #title\n",
    "plt.ylabel(\"Malic\", fontsize = 13 )                                           #y-label\n",
    "plt.yticks( rotation = 45, fontsize = 10)                                    #y-values rotation and font size\n",
    "\n",
    "\n",
    "#box=plt.boxplot(x='Alcohol', data=data)                                               \n",
    "box=plt.boxplot(x='Malic', data=data)\n",
    "#box=plt.boxplot(x='Ash', data=data)\n",
    "#box=plt.boxplot(x='Alcalinity', data=data)\n",
    "#box=plt.boxplot(x='Magnesium', data=data)\n",
    "#box=plt.boxplot(x='Phenols', data=data)\n",
    "#box=plt.boxplot(x='Flavanoids', data=data)\n",
    "#box=plt.boxplot(x='Nonflavanoids', data=data)\n",
    "#box=plt.boxplot(x='Proanthocyanins', data=data)\n",
    "#box=plt.boxplot(x='Color', data=data)\n",
    "#box=plt.boxplot(x='Hue', data=data)\n",
    "#box=plt.boxplot(x='Dilution', data=data)\n",
    "#box=plt.boxplot(x='Proline', data=data)\n",
    "\n",
    "plt.show() \n",
    "\n",
    "\n",
    "[item.get_ydata() for item in box['whiskers']]\n",
    "\n"
   ]
  },
  {
   "cell_type": "code",
   "execution_count": 48,
   "id": "5ab00f72",
   "metadata": {},
   "outputs": [],
   "source": [
    "# print(np.where(data['Malic']>5.19))                               #3 outliers\n",
    "# print(np.where(data['Ash']>2.92))                                 #2 outliers\n",
    "# print(np.where(data['Ash']<1.7))                                  #1 outliers\n",
    "# print(np.where(data['Alcalinity']>27))                            #3 outliers\n",
    "# print(np.where(data['Alcalinity']<11.2))                          #1 outliers\n",
    "# print(np.where(data['Magnesium']>134))                            #4 outliers\n",
    "# print(np.where(data['Proanthocyanins']>2.96))                     #2 outliers\n",
    "# print(np.where(data['Color']>10.52))                              #4 outliers\n",
    "# print(np.where(data['Hue']>1.45))                                 #4 outliers\n",
    "\n",
    "\n",
    "#don't delete the record becoz of outliers ;\n",
    "#also we don't want to have outliers\n",
    "#so we replace these with median or mode or we can do quantile based flooring and capping"
   ]
  },
  {
   "cell_type": "code",
   "execution_count": 49,
   "id": "3fb33b3f",
   "metadata": {},
   "outputs": [
    {
     "data": {
      "text/html": [
       "<div>\n",
       "<style scoped>\n",
       "    .dataframe tbody tr th:only-of-type {\n",
       "        vertical-align: middle;\n",
       "    }\n",
       "\n",
       "    .dataframe tbody tr th {\n",
       "        vertical-align: top;\n",
       "    }\n",
       "\n",
       "    .dataframe thead th {\n",
       "        text-align: right;\n",
       "    }\n",
       "</style>\n",
       "<table border=\"1\" class=\"dataframe\">\n",
       "  <thead>\n",
       "    <tr style=\"text-align: right;\">\n",
       "      <th></th>\n",
       "      <th>Type</th>\n",
       "      <th>Alcohol</th>\n",
       "      <th>Malic</th>\n",
       "      <th>Ash</th>\n",
       "      <th>Alcalinity</th>\n",
       "      <th>Magnesium</th>\n",
       "      <th>Phenols</th>\n",
       "      <th>Flavanoids</th>\n",
       "      <th>Nonflavanoids</th>\n",
       "      <th>Proanthocyanins</th>\n",
       "      <th>Color</th>\n",
       "      <th>Hue</th>\n",
       "      <th>Dilution</th>\n",
       "      <th>Proline</th>\n",
       "    </tr>\n",
       "  </thead>\n",
       "  <tbody>\n",
       "    <tr>\n",
       "      <th>count</th>\n",
       "      <td>178.000000</td>\n",
       "      <td>178.000000</td>\n",
       "      <td>178.000000</td>\n",
       "      <td>178.000000</td>\n",
       "      <td>178.000000</td>\n",
       "      <td>178.000000</td>\n",
       "      <td>178.000000</td>\n",
       "      <td>178.000000</td>\n",
       "      <td>178.000000</td>\n",
       "      <td>178.000000</td>\n",
       "      <td>178.000000</td>\n",
       "      <td>178.000000</td>\n",
       "      <td>178.000000</td>\n",
       "      <td>178.000000</td>\n",
       "    </tr>\n",
       "    <tr>\n",
       "      <th>mean</th>\n",
       "      <td>1.938202</td>\n",
       "      <td>13.000618</td>\n",
       "      <td>2.336348</td>\n",
       "      <td>2.366517</td>\n",
       "      <td>19.494944</td>\n",
       "      <td>99.741573</td>\n",
       "      <td>2.295112</td>\n",
       "      <td>2.029270</td>\n",
       "      <td>0.361854</td>\n",
       "      <td>1.590899</td>\n",
       "      <td>5.058090</td>\n",
       "      <td>0.957449</td>\n",
       "      <td>2.611685</td>\n",
       "      <td>746.893258</td>\n",
       "    </tr>\n",
       "    <tr>\n",
       "      <th>std</th>\n",
       "      <td>0.775035</td>\n",
       "      <td>0.811827</td>\n",
       "      <td>1.117146</td>\n",
       "      <td>0.274344</td>\n",
       "      <td>3.339564</td>\n",
       "      <td>14.282484</td>\n",
       "      <td>0.625851</td>\n",
       "      <td>0.998859</td>\n",
       "      <td>0.124453</td>\n",
       "      <td>0.572359</td>\n",
       "      <td>2.318286</td>\n",
       "      <td>0.228572</td>\n",
       "      <td>0.709990</td>\n",
       "      <td>314.907474</td>\n",
       "    </tr>\n",
       "    <tr>\n",
       "      <th>min</th>\n",
       "      <td>1.000000</td>\n",
       "      <td>11.030000</td>\n",
       "      <td>0.740000</td>\n",
       "      <td>1.360000</td>\n",
       "      <td>10.600000</td>\n",
       "      <td>70.000000</td>\n",
       "      <td>0.980000</td>\n",
       "      <td>0.340000</td>\n",
       "      <td>0.130000</td>\n",
       "      <td>0.410000</td>\n",
       "      <td>1.280000</td>\n",
       "      <td>0.480000</td>\n",
       "      <td>1.270000</td>\n",
       "      <td>278.000000</td>\n",
       "    </tr>\n",
       "    <tr>\n",
       "      <th>25%</th>\n",
       "      <td>1.000000</td>\n",
       "      <td>12.362500</td>\n",
       "      <td>1.602500</td>\n",
       "      <td>2.210000</td>\n",
       "      <td>17.200000</td>\n",
       "      <td>88.000000</td>\n",
       "      <td>1.742500</td>\n",
       "      <td>1.205000</td>\n",
       "      <td>0.270000</td>\n",
       "      <td>1.250000</td>\n",
       "      <td>3.220000</td>\n",
       "      <td>0.782500</td>\n",
       "      <td>1.937500</td>\n",
       "      <td>500.500000</td>\n",
       "    </tr>\n",
       "    <tr>\n",
       "      <th>50%</th>\n",
       "      <td>2.000000</td>\n",
       "      <td>13.050000</td>\n",
       "      <td>1.865000</td>\n",
       "      <td>2.360000</td>\n",
       "      <td>19.500000</td>\n",
       "      <td>98.000000</td>\n",
       "      <td>2.355000</td>\n",
       "      <td>2.135000</td>\n",
       "      <td>0.340000</td>\n",
       "      <td>1.555000</td>\n",
       "      <td>4.690000</td>\n",
       "      <td>0.965000</td>\n",
       "      <td>2.780000</td>\n",
       "      <td>673.500000</td>\n",
       "    </tr>\n",
       "    <tr>\n",
       "      <th>75%</th>\n",
       "      <td>3.000000</td>\n",
       "      <td>13.677500</td>\n",
       "      <td>3.082500</td>\n",
       "      <td>2.557500</td>\n",
       "      <td>21.500000</td>\n",
       "      <td>107.000000</td>\n",
       "      <td>2.800000</td>\n",
       "      <td>2.875000</td>\n",
       "      <td>0.437500</td>\n",
       "      <td>1.950000</td>\n",
       "      <td>6.200000</td>\n",
       "      <td>1.120000</td>\n",
       "      <td>3.170000</td>\n",
       "      <td>985.000000</td>\n",
       "    </tr>\n",
       "    <tr>\n",
       "      <th>max</th>\n",
       "      <td>3.000000</td>\n",
       "      <td>14.830000</td>\n",
       "      <td>5.800000</td>\n",
       "      <td>3.230000</td>\n",
       "      <td>30.000000</td>\n",
       "      <td>162.000000</td>\n",
       "      <td>3.880000</td>\n",
       "      <td>5.080000</td>\n",
       "      <td>0.660000</td>\n",
       "      <td>3.580000</td>\n",
       "      <td>13.000000</td>\n",
       "      <td>1.710000</td>\n",
       "      <td>4.000000</td>\n",
       "      <td>1680.000000</td>\n",
       "    </tr>\n",
       "  </tbody>\n",
       "</table>\n",
       "</div>"
      ],
      "text/plain": [
       "             Type     Alcohol       Malic         Ash  Alcalinity   Magnesium  \\\n",
       "count  178.000000  178.000000  178.000000  178.000000  178.000000  178.000000   \n",
       "mean     1.938202   13.000618    2.336348    2.366517   19.494944   99.741573   \n",
       "std      0.775035    0.811827    1.117146    0.274344    3.339564   14.282484   \n",
       "min      1.000000   11.030000    0.740000    1.360000   10.600000   70.000000   \n",
       "25%      1.000000   12.362500    1.602500    2.210000   17.200000   88.000000   \n",
       "50%      2.000000   13.050000    1.865000    2.360000   19.500000   98.000000   \n",
       "75%      3.000000   13.677500    3.082500    2.557500   21.500000  107.000000   \n",
       "max      3.000000   14.830000    5.800000    3.230000   30.000000  162.000000   \n",
       "\n",
       "          Phenols  Flavanoids  Nonflavanoids  Proanthocyanins       Color  \\\n",
       "count  178.000000  178.000000     178.000000       178.000000  178.000000   \n",
       "mean     2.295112    2.029270       0.361854         1.590899    5.058090   \n",
       "std      0.625851    0.998859       0.124453         0.572359    2.318286   \n",
       "min      0.980000    0.340000       0.130000         0.410000    1.280000   \n",
       "25%      1.742500    1.205000       0.270000         1.250000    3.220000   \n",
       "50%      2.355000    2.135000       0.340000         1.555000    4.690000   \n",
       "75%      2.800000    2.875000       0.437500         1.950000    6.200000   \n",
       "max      3.880000    5.080000       0.660000         3.580000   13.000000   \n",
       "\n",
       "              Hue    Dilution      Proline  \n",
       "count  178.000000  178.000000   178.000000  \n",
       "mean     0.957449    2.611685   746.893258  \n",
       "std      0.228572    0.709990   314.907474  \n",
       "min      0.480000    1.270000   278.000000  \n",
       "25%      0.782500    1.937500   500.500000  \n",
       "50%      0.965000    2.780000   673.500000  \n",
       "75%      1.120000    3.170000   985.000000  \n",
       "max      1.710000    4.000000  1680.000000  "
      ]
     },
     "execution_count": 49,
     "metadata": {},
     "output_type": "execute_result"
    }
   ],
   "source": [
    "data.describe()"
   ]
  },
  {
   "cell_type": "code",
   "execution_count": 50,
   "id": "66c590fe",
   "metadata": {},
   "outputs": [],
   "source": [
    "# Computing 90th percentile and replacing the outliers with 90th percentile\n",
    "p_90 = np.percentile(data['Malic'], 90)\n",
    "data.loc[data.Malic > p_90, 'Malic'] = np.nan\n",
    "data.fillna(p_90,inplace=True)\n",
    "p_90 = np.percentile(data['Ash'], 90)\n",
    "data.loc[data.Ash > p_90, 'Ash'] = np.nan\n",
    "data.fillna(p_90,inplace=True)\n",
    "p_10 = np.percentile(data['Ash'], 10)\n",
    "data.loc[data.Ash < p_10, 'Ash'] = np.nan\n",
    "data.fillna(p_10,inplace=True)\n",
    "p_10 = np.percentile(data['Alcalinity'], 10)\n",
    "data.loc[data.Alcalinity < p_10, 'Alcalinity'] = np.nan\n",
    "data.fillna(p_10,inplace=True)\n",
    "p_90 = np.percentile(data['Alcalinity'], 90)\n",
    "data.loc[data.Alcalinity > p_90, 'Alcalinity'] = np.nan\n",
    "data.fillna(p_90,inplace=True)\n",
    "p_90 = np.percentile(data['Magnesium'], 90)\n",
    "data.loc[data.Magnesium > p_90, 'Magnesium'] = np.nan\n",
    "data.fillna(p_90,inplace=True)\n",
    "p_90 = np.percentile(data['Proanthocyanins'], 90)\n",
    "data.loc[data.Proanthocyanins > p_90, 'Proanthocyanins'] = np.nan\n",
    "data.fillna(p_90,inplace=True)\n",
    "p_90 = np.percentile(data['Color'], 90)\n",
    "data.loc[data.Color > p_90, 'Color'] = np.nan\n",
    "data.fillna(p_90,inplace=True)\n",
    "p_90 = np.percentile(data['Hue'], 90)\n",
    "data.loc[data.Hue > p_90, 'Hue'] = np.nan\n",
    "data.fillna(p_90,inplace=True)\n"
   ]
  },
  {
   "cell_type": "code",
   "execution_count": 51,
   "id": "e8774bfc",
   "metadata": {},
   "outputs": [
    {
     "data": {
      "image/png": "[encoded data removed]",
      "text/plain": [
       "<Figure size 1224x1080 with 14 Axes>"
      ]
     },
     "metadata": {
      "needs_background": "light"
     },
     "output_type": "display_data"
    }
   ],
   "source": [
    "import seaborn as sns\n",
    "\n",
    "plt.figure(figsize=(17,15)) \n",
    "\n",
    "plt.subplot(5,3,1)\n",
    "sns.distplot(data['Type'],bins=10,  kde = True, color =  'red' )      \n",
    "plt.subplot(5,3,2)\n",
    "sns.distplot(data['Alcohol'],bins=10,  kde = True, color =  'red' )\n",
    "plt.subplot(5,3,3)\n",
    "sns.distplot(data['Malic'],bins=10,  kde = True, color =  'red' )    \n",
    "plt.subplot(5,3,4)\n",
    "sns.distplot(data['Ash'],bins=10,  kde = True, color =  'red' )      \n",
    "plt.subplot(5,3,5)\n",
    "sns.distplot(data['Alcalinity'],bins=10,  kde = True, color =  'red' )      \n",
    "plt.subplot(5,3,6)\n",
    "sns.distplot(data['Magnesium'],bins=10,  kde = True, color =  'red' )      \n",
    "plt.subplot(5,3,7)\n",
    "sns.distplot(data['Phenols'],bins=10,  kde = True, color =  'red' )      \n",
    "plt.subplot(5,3,8)\n",
    "sns.distplot(data['Flavanoids'],bins=10,  kde = True, color =  'red' )      \n",
    "plt.subplot(5,3,9)\n",
    "sns.distplot(data['Nonflavanoids'],bins=10,  kde = True, color =  'red' )      \n",
    "plt.subplot(5,3,10)\n",
    "sns.distplot(data['Proanthocyanins'],bins=10,  kde = True, color =  'red' )      \n",
    "plt.subplot(5,3,11)\n",
    "sns.distplot(data['Color'],bins=10,  kde = True, color =  'red' )      \n",
    "plt.subplot(5,3,12)\n",
    "sns.distplot(data['Hue'],bins=10,  kde = True, color =  'red' ) \n",
    "plt.subplot(5,3,13)\n",
    "sns.distplot(data['Dilution'],bins=10,  kde = True, color =  'red' ) \n",
    "plt.subplot(5,3,14)\n",
    "sns.distplot(data['Proline'],bins=10,  kde = True, color =  'red' ) \n",
    "\n",
    "plt.show()\n",
    "\n",
    "#for perfectly skewed N.D. kurtosis = 3"
   ]
  },
  {
   "cell_type": "markdown",
   "id": "1beb09e4",
   "metadata": {},
   "source": [
    "### 2.3 Scaling of data"
   ]
  },
  {
   "cell_type": "code",
   "execution_count": 60,
   "id": "a7bf6e61",
   "metadata": {},
   "outputs": [],
   "source": [
    "#we should normalize or standardize our data ?\n",
    "\n",
    "# https://www.analyticsvidhya.com/blog/2020/04/feature-scaling-machine-learning-normalization-standardization/\n"
   ]
  },
  {
   "cell_type": "markdown",
   "id": "9281862c",
   "metadata": {},
   "source": [
    "#### a) standardization of data"
   ]
  },
  {
   "cell_type": "code",
   "execution_count": 61,
   "id": "beb5d480",
   "metadata": {},
   "outputs": [
    {
     "data": {
      "text/html": [
       "<div>\n",
       "<style scoped>\n",
       "    .dataframe tbody tr th:only-of-type {\n",
       "        vertical-align: middle;\n",
       "    }\n",
       "\n",
       "    .dataframe tbody tr th {\n",
       "        vertical-align: top;\n",
       "    }\n",
       "\n",
       "    .dataframe thead th {\n",
       "        text-align: right;\n",
       "    }\n",
       "</style>\n",
       "<table border=\"1\" class=\"dataframe\">\n",
       "  <thead>\n",
       "    <tr style=\"text-align: right;\">\n",
       "      <th></th>\n",
       "      <th>Type</th>\n",
       "      <th>Alcohol</th>\n",
       "      <th>Malic</th>\n",
       "      <th>Ash</th>\n",
       "      <th>Alcalinity</th>\n",
       "      <th>Magnesium</th>\n",
       "      <th>Phenols</th>\n",
       "      <th>Flavanoids</th>\n",
       "      <th>Nonflavanoids</th>\n",
       "      <th>Proanthocyanins</th>\n",
       "      <th>Color</th>\n",
       "      <th>Hue</th>\n",
       "      <th>Dilution</th>\n",
       "      <th>Proline</th>\n",
       "    </tr>\n",
       "  </thead>\n",
       "  <tbody>\n",
       "    <tr>\n",
       "      <th>0</th>\n",
       "      <td>1</td>\n",
       "      <td>1.518613</td>\n",
       "      <td>-0.577683</td>\n",
       "      <td>0.278439</td>\n",
       "      <td>-1.352641</td>\n",
       "      <td>1.665802</td>\n",
       "      <td>0.808997</td>\n",
       "      <td>1.034819</td>\n",
       "      <td>-0.659563</td>\n",
       "      <td>1.518973</td>\n",
       "      <td>0.357986</td>\n",
       "      <td>0.439501</td>\n",
       "      <td>1.847920</td>\n",
       "      <td>1.013009</td>\n",
       "    </tr>\n",
       "    <tr>\n",
       "      <th>1</th>\n",
       "      <td>1</td>\n",
       "      <td>0.246290</td>\n",
       "      <td>-0.505112</td>\n",
       "      <td>-1.049936</td>\n",
       "      <td>-1.352641</td>\n",
       "      <td>0.117882</td>\n",
       "      <td>0.568648</td>\n",
       "      <td>0.733629</td>\n",
       "      <td>-0.820719</td>\n",
       "      <td>-0.553748</td>\n",
       "      <td>-0.268294</td>\n",
       "      <td>0.487058</td>\n",
       "      <td>1.113449</td>\n",
       "      <td>0.965242</td>\n",
       "    </tr>\n",
       "    <tr>\n",
       "      <th>2</th>\n",
       "      <td>1</td>\n",
       "      <td>0.196879</td>\n",
       "      <td>0.096195</td>\n",
       "      <td>1.377784</td>\n",
       "      <td>-0.356457</td>\n",
       "      <td>0.203877</td>\n",
       "      <td>0.808997</td>\n",
       "      <td>1.215533</td>\n",
       "      <td>-0.498407</td>\n",
       "      <td>1.549756</td>\n",
       "      <td>0.377868</td>\n",
       "      <td>0.391944</td>\n",
       "      <td>0.788587</td>\n",
       "      <td>1.395148</td>\n",
       "    </tr>\n",
       "    <tr>\n",
       "      <th>3</th>\n",
       "      <td>1</td>\n",
       "      <td>1.691550</td>\n",
       "      <td>-0.328867</td>\n",
       "      <td>0.599081</td>\n",
       "      <td>-1.046122</td>\n",
       "      <td>1.235824</td>\n",
       "      <td>2.491446</td>\n",
       "      <td>1.466525</td>\n",
       "      <td>-0.981875</td>\n",
       "      <td>1.293231</td>\n",
       "      <td>1.431608</td>\n",
       "      <td>-0.416524</td>\n",
       "      <td>1.184071</td>\n",
       "      <td>2.334574</td>\n",
       "    </tr>\n",
       "    <tr>\n",
       "      <th>4</th>\n",
       "      <td>1</td>\n",
       "      <td>0.295700</td>\n",
       "      <td>0.334644</td>\n",
       "      <td>1.515202</td>\n",
       "      <td>0.563098</td>\n",
       "      <td>1.665802</td>\n",
       "      <td>0.808997</td>\n",
       "      <td>0.663351</td>\n",
       "      <td>0.226796</td>\n",
       "      <td>0.554439</td>\n",
       "      <td>-0.298117</td>\n",
       "      <td>0.439501</td>\n",
       "      <td>0.449601</td>\n",
       "      <td>-0.037874</td>\n",
       "    </tr>\n",
       "  </tbody>\n",
       "</table>\n",
       "</div>"
      ],
      "text/plain": [
       "   Type   Alcohol     Malic       Ash  Alcalinity  Magnesium   Phenols  \\\n",
       "0     1  1.518613 -0.577683  0.278439   -1.352641   1.665802  0.808997   \n",
       "1     1  0.246290 -0.505112 -1.049936   -1.352641   0.117882  0.568648   \n",
       "2     1  0.196879  0.096195  1.377784   -0.356457   0.203877  0.808997   \n",
       "3     1  1.691550 -0.328867  0.599081   -1.046122   1.235824  2.491446   \n",
       "4     1  0.295700  0.334644  1.515202    0.563098   1.665802  0.808997   \n",
       "\n",
       "   Flavanoids  Nonflavanoids  Proanthocyanins     Color       Hue  Dilution  \\\n",
       "0    1.034819      -0.659563         1.518973  0.357986  0.439501  1.847920   \n",
       "1    0.733629      -0.820719        -0.553748 -0.268294  0.487058  1.113449   \n",
       "2    1.215533      -0.498407         1.549756  0.377868  0.391944  0.788587   \n",
       "3    1.466525      -0.981875         1.293231  1.431608 -0.416524  1.184071   \n",
       "4    0.663351       0.226796         0.554439 -0.298117  0.439501  0.449601   \n",
       "\n",
       "    Proline  \n",
       "0  1.013009  \n",
       "1  0.965242  \n",
       "2  1.395148  \n",
       "3  2.334574  \n",
       "4 -0.037874  "
      ]
     },
     "execution_count": 61,
     "metadata": {},
     "output_type": "execute_result"
    }
   ],
   "source": [
    "# standardization of data \n",
    "\n",
    "from sklearn.preprocessing import StandardScaler\n",
    "scaler = StandardScaler()\n",
    "x_scaled = scaler.fit_transform(data.iloc[:,1:])\n",
    "data_s=pd.DataFrame(x_scaled)\n",
    "data_s.columns=['Alcohol','Malic','Ash','Alcalinity','Magnesium','Phenols','Flavanoids','Nonflavanoids','Proanthocyanins','Color','Hue','Dilution','Proline']\n",
    "\n",
    "data_s = pd.concat([data['Type'],data_s],axis=1)\n",
    "data_s.head()"
   ]
  },
  {
   "cell_type": "markdown",
   "id": "b66d34aa",
   "metadata": {},
   "source": [
    "#### b) normalisation of data"
   ]
  },
  {
   "cell_type": "code",
   "execution_count": 62,
   "id": "ae9a9bda",
   "metadata": {},
   "outputs": [
    {
     "data": {
      "text/html": [
       "<div>\n",
       "<style scoped>\n",
       "    .dataframe tbody tr th:only-of-type {\n",
       "        vertical-align: middle;\n",
       "    }\n",
       "\n",
       "    .dataframe tbody tr th {\n",
       "        vertical-align: top;\n",
       "    }\n",
       "\n",
       "    .dataframe thead th {\n",
       "        text-align: right;\n",
       "    }\n",
       "</style>\n",
       "<table border=\"1\" class=\"dataframe\">\n",
       "  <thead>\n",
       "    <tr style=\"text-align: right;\">\n",
       "      <th></th>\n",
       "      <th>Type</th>\n",
       "      <th>Alcohol</th>\n",
       "      <th>Malic</th>\n",
       "      <th>Ash</th>\n",
       "      <th>Alcalinity</th>\n",
       "      <th>Magnesium</th>\n",
       "      <th>Phenols</th>\n",
       "      <th>Flavanoids</th>\n",
       "      <th>Nonflavanoids</th>\n",
       "      <th>Proanthocyanins</th>\n",
       "      <th>Color</th>\n",
       "      <th>Hue</th>\n",
       "      <th>Dilution</th>\n",
       "      <th>Proline</th>\n",
       "    </tr>\n",
       "  </thead>\n",
       "  <tbody>\n",
       "    <tr>\n",
       "      <th>0</th>\n",
       "      <td>1</td>\n",
       "      <td>0.842105</td>\n",
       "      <td>0.299106</td>\n",
       "      <td>0.614286</td>\n",
       "      <td>0.000</td>\n",
       "      <td>1.000000</td>\n",
       "      <td>0.627586</td>\n",
       "      <td>0.573840</td>\n",
       "      <td>0.283019</td>\n",
       "      <td>0.992084</td>\n",
       "      <td>0.601379</td>\n",
       "      <td>0.743692</td>\n",
       "      <td>0.970696</td>\n",
       "      <td>0.561341</td>\n",
       "    </tr>\n",
       "    <tr>\n",
       "      <th>1</th>\n",
       "      <td>1</td>\n",
       "      <td>0.571053</td>\n",
       "      <td>0.320691</td>\n",
       "      <td>0.200000</td>\n",
       "      <td>0.000</td>\n",
       "      <td>0.625000</td>\n",
       "      <td>0.575862</td>\n",
       "      <td>0.510549</td>\n",
       "      <td>0.245283</td>\n",
       "      <td>0.459103</td>\n",
       "      <td>0.427586</td>\n",
       "      <td>0.756972</td>\n",
       "      <td>0.780220</td>\n",
       "      <td>0.550642</td>\n",
       "    </tr>\n",
       "    <tr>\n",
       "      <th>2</th>\n",
       "      <td>1</td>\n",
       "      <td>0.560526</td>\n",
       "      <td>0.499537</td>\n",
       "      <td>0.957143</td>\n",
       "      <td>0.325</td>\n",
       "      <td>0.645833</td>\n",
       "      <td>0.627586</td>\n",
       "      <td>0.611814</td>\n",
       "      <td>0.320755</td>\n",
       "      <td>1.000000</td>\n",
       "      <td>0.606897</td>\n",
       "      <td>0.730412</td>\n",
       "      <td>0.695971</td>\n",
       "      <td>0.646933</td>\n",
       "    </tr>\n",
       "    <tr>\n",
       "      <th>3</th>\n",
       "      <td>1</td>\n",
       "      <td>0.878947</td>\n",
       "      <td>0.373111</td>\n",
       "      <td>0.714286</td>\n",
       "      <td>0.100</td>\n",
       "      <td>0.895833</td>\n",
       "      <td>0.989655</td>\n",
       "      <td>0.664557</td>\n",
       "      <td>0.207547</td>\n",
       "      <td>0.934037</td>\n",
       "      <td>0.899310</td>\n",
       "      <td>0.504648</td>\n",
       "      <td>0.798535</td>\n",
       "      <td>0.857347</td>\n",
       "    </tr>\n",
       "    <tr>\n",
       "      <th>4</th>\n",
       "      <td>1</td>\n",
       "      <td>0.581579</td>\n",
       "      <td>0.570459</td>\n",
       "      <td>1.000000</td>\n",
       "      <td>0.625</td>\n",
       "      <td>1.000000</td>\n",
       "      <td>0.627586</td>\n",
       "      <td>0.495781</td>\n",
       "      <td>0.490566</td>\n",
       "      <td>0.744063</td>\n",
       "      <td>0.419310</td>\n",
       "      <td>0.743692</td>\n",
       "      <td>0.608059</td>\n",
       "      <td>0.325963</td>\n",
       "    </tr>\n",
       "  </tbody>\n",
       "</table>\n",
       "</div>"
      ],
      "text/plain": [
       "   Type   Alcohol     Malic       Ash  Alcalinity  Magnesium   Phenols  \\\n",
       "0     1  0.842105  0.299106  0.614286       0.000   1.000000  0.627586   \n",
       "1     1  0.571053  0.320691  0.200000       0.000   0.625000  0.575862   \n",
       "2     1  0.560526  0.499537  0.957143       0.325   0.645833  0.627586   \n",
       "3     1  0.878947  0.373111  0.714286       0.100   0.895833  0.989655   \n",
       "4     1  0.581579  0.570459  1.000000       0.625   1.000000  0.627586   \n",
       "\n",
       "   Flavanoids  Nonflavanoids  Proanthocyanins     Color       Hue  Dilution  \\\n",
       "0    0.573840       0.283019         0.992084  0.601379  0.743692  0.970696   \n",
       "1    0.510549       0.245283         0.459103  0.427586  0.756972  0.780220   \n",
       "2    0.611814       0.320755         1.000000  0.606897  0.730412  0.695971   \n",
       "3    0.664557       0.207547         0.934037  0.899310  0.504648  0.798535   \n",
       "4    0.495781       0.490566         0.744063  0.419310  0.743692  0.608059   \n",
       "\n",
       "    Proline  \n",
       "0  0.561341  \n",
       "1  0.550642  \n",
       "2  0.646933  \n",
       "3  0.857347  \n",
       "4  0.325963  "
      ]
     },
     "execution_count": 62,
     "metadata": {},
     "output_type": "execute_result"
    }
   ],
   "source": [
    "# Normalization of data\n",
    "\n",
    "from sklearn.preprocessing import MinMaxScaler\n",
    "scaler = MinMaxScaler()\n",
    "x_scaled = scaler.fit_transform(data.iloc[:,1:])\n",
    "data_n=pd.DataFrame(x_scaled)\n",
    "data_n.columns=['Alcohol','Malic','Ash','Alcalinity','Magnesium','Phenols','Flavanoids','Nonflavanoids','Proanthocyanins','Color','Hue','Dilution','Proline']\n",
    "\n",
    "data_n = pd.concat([data['Type'],data_n],axis=1)\n",
    "data_n.head()"
   ]
  },
  {
   "cell_type": "markdown",
   "id": "508e0a4c",
   "metadata": {},
   "source": [
    "### 3.building PCA model"
   ]
  },
  {
   "cell_type": "markdown",
   "id": "52151012",
   "metadata": {},
   "source": [
    "#### a) for standardized data"
   ]
  },
  {
   "cell_type": "code",
   "execution_count": 65,
   "id": "f3aafc22",
   "metadata": {},
   "outputs": [],
   "source": [
    "data_s1 = data_s.iloc[:,1:]\n",
    "data_s_array = data_s1.values                  #converting dataframe into array"
   ]
  },
  {
   "cell_type": "code",
   "execution_count": 66,
   "id": "c80d8721",
   "metadata": {},
   "outputs": [
    {
     "data": {
      "text/plain": [
       "array([37.37, 57.88, 68.08, 75.13, 81.08, 85.62, 89.48, 92.2 , 94.41,\n",
       "       96.22, 97.92, 99.19, 99.99])"
      ]
     },
     "execution_count": 66,
     "metadata": {},
     "output_type": "execute_result"
    }
   ],
   "source": [
    "from sklearn.decomposition import PCA\n",
    "\n",
    "model = PCA(n_components = 13)\n",
    "pca_values = model.fit_transform(data_s_array)\n",
    "\n",
    "var = model.explained_variance_ratio_                    # The amount of variance that each PCA explains is \n",
    "\n",
    "cum_var = np.cumsum(np.round(var,decimals = 4)*100)         # Cumulative variance \n",
    "cum_var"
   ]
  },
  {
   "cell_type": "code",
   "execution_count": 67,
   "id": "f3f19744",
   "metadata": {},
   "outputs": [
    {
     "data": {
      "text/html": [
       "<div>\n",
       "<style scoped>\n",
       "    .dataframe tbody tr th:only-of-type {\n",
       "        vertical-align: middle;\n",
       "    }\n",
       "\n",
       "    .dataframe tbody tr th {\n",
       "        vertical-align: top;\n",
       "    }\n",
       "\n",
       "    .dataframe thead th {\n",
       "        text-align: right;\n",
       "    }\n",
       "</style>\n",
       "<table border=\"1\" class=\"dataframe\">\n",
       "  <thead>\n",
       "    <tr style=\"text-align: right;\">\n",
       "      <th></th>\n",
       "      <th>Type</th>\n",
       "      <th>PCA1</th>\n",
       "      <th>PCA2</th>\n",
       "      <th>PCA3</th>\n",
       "    </tr>\n",
       "  </thead>\n",
       "  <tbody>\n",
       "    <tr>\n",
       "      <th>0</th>\n",
       "      <td>1</td>\n",
       "      <td>-3.481312</td>\n",
       "      <td>-1.367496</td>\n",
       "      <td>-0.220414</td>\n",
       "    </tr>\n",
       "    <tr>\n",
       "      <th>1</th>\n",
       "      <td>1</td>\n",
       "      <td>-1.960752</td>\n",
       "      <td>0.451301</td>\n",
       "      <td>-1.472876</td>\n",
       "    </tr>\n",
       "    <tr>\n",
       "      <th>2</th>\n",
       "      <td>1</td>\n",
       "      <td>-2.402311</td>\n",
       "      <td>-1.096382</td>\n",
       "      <td>1.085208</td>\n",
       "    </tr>\n",
       "    <tr>\n",
       "      <th>3</th>\n",
       "      <td>1</td>\n",
       "      <td>-3.982447</td>\n",
       "      <td>-2.867852</td>\n",
       "      <td>-0.145534</td>\n",
       "    </tr>\n",
       "    <tr>\n",
       "      <th>4</th>\n",
       "      <td>1</td>\n",
       "      <td>-1.079430</td>\n",
       "      <td>-0.982654</td>\n",
       "      <td>1.927415</td>\n",
       "    </tr>\n",
       "  </tbody>\n",
       "</table>\n",
       "</div>"
      ],
      "text/plain": [
       "   Type      PCA1      PCA2      PCA3\n",
       "0     1 -3.481312 -1.367496 -0.220414\n",
       "1     1 -1.960752  0.451301 -1.472876\n",
       "2     1 -2.402311 -1.096382  1.085208\n",
       "3     1 -3.982447 -2.867852 -0.145534\n",
       "4     1 -1.079430 -0.982654  1.927415"
      ]
     },
     "execution_count": 67,
     "metadata": {},
     "output_type": "execute_result"
    }
   ],
   "source": [
    "data_s_p = pd.concat([data_s['Type'],pd.DataFrame(pca_values[:,0:3],columns=['PCA1','PCA2','PCA3'])],axis=1)\n",
    "data_s_p.head()"
   ]
  },
  {
   "cell_type": "markdown",
   "id": "f0db912d",
   "metadata": {},
   "source": [
    "#### b) for normalised data"
   ]
  },
  {
   "cell_type": "code",
   "execution_count": 68,
   "id": "8508f799",
   "metadata": {},
   "outputs": [],
   "source": [
    "data_n1 = data_n.iloc[:,1:]\n",
    "data_n_array = data_n1.values                  #converting dataframe into array"
   ]
  },
  {
   "cell_type": "code",
   "execution_count": 69,
   "id": "3638cecc",
   "metadata": {},
   "outputs": [
    {
     "data": {
      "text/plain": [
       "array([34.91, 55.23, 68.75, 76.5 , 81.95, 86.85, 90.26, 93.02, 95.09,\n",
       "       96.8 , 98.25, 99.44, 99.98])"
      ]
     },
     "execution_count": 69,
     "metadata": {},
     "output_type": "execute_result"
    }
   ],
   "source": [
    "from sklearn.decomposition import PCA\n",
    "\n",
    "model = PCA(n_components = 13)\n",
    "pca_values = model.fit_transform(data_n_array)\n",
    "\n",
    "var = model.explained_variance_ratio_                    # The amount of variance that each PCA explains is \n",
    "\n",
    "cum_var = np.cumsum(np.round(var,decimals = 4)*100)         # Cumulative variance \n",
    "cum_var"
   ]
  },
  {
   "cell_type": "code",
   "execution_count": 70,
   "id": "892f3f92",
   "metadata": {},
   "outputs": [
    {
     "data": {
      "text/html": [
       "<div>\n",
       "<style scoped>\n",
       "    .dataframe tbody tr th:only-of-type {\n",
       "        vertical-align: middle;\n",
       "    }\n",
       "\n",
       "    .dataframe tbody tr th {\n",
       "        vertical-align: top;\n",
       "    }\n",
       "\n",
       "    .dataframe thead th {\n",
       "        text-align: right;\n",
       "    }\n",
       "</style>\n",
       "<table border=\"1\" class=\"dataframe\">\n",
       "  <thead>\n",
       "    <tr style=\"text-align: right;\">\n",
       "      <th></th>\n",
       "      <th>Type</th>\n",
       "      <th>PCA1</th>\n",
       "      <th>PCA2</th>\n",
       "      <th>PCA3</th>\n",
       "    </tr>\n",
       "  </thead>\n",
       "  <tbody>\n",
       "    <tr>\n",
       "      <th>0</th>\n",
       "      <td>1</td>\n",
       "      <td>-0.835398</td>\n",
       "      <td>-0.454309</td>\n",
       "      <td>-0.102287</td>\n",
       "    </tr>\n",
       "    <tr>\n",
       "      <th>1</th>\n",
       "      <td>1</td>\n",
       "      <td>-0.566579</td>\n",
       "      <td>0.140533</td>\n",
       "      <td>-0.379290</td>\n",
       "    </tr>\n",
       "    <tr>\n",
       "      <th>2</th>\n",
       "      <td>1</td>\n",
       "      <td>-0.474664</td>\n",
       "      <td>-0.478100</td>\n",
       "      <td>0.270959</td>\n",
       "    </tr>\n",
       "    <tr>\n",
       "      <th>3</th>\n",
       "      <td>1</td>\n",
       "      <td>-0.771414</td>\n",
       "      <td>-0.849127</td>\n",
       "      <td>-0.159318</td>\n",
       "    </tr>\n",
       "    <tr>\n",
       "      <th>4</th>\n",
       "      <td>1</td>\n",
       "      <td>-0.130425</td>\n",
       "      <td>-0.398694</td>\n",
       "      <td>0.503642</td>\n",
       "    </tr>\n",
       "  </tbody>\n",
       "</table>\n",
       "</div>"
      ],
      "text/plain": [
       "   Type      PCA1      PCA2      PCA3\n",
       "0     1 -0.835398 -0.454309 -0.102287\n",
       "1     1 -0.566579  0.140533 -0.379290\n",
       "2     1 -0.474664 -0.478100  0.270959\n",
       "3     1 -0.771414 -0.849127 -0.159318\n",
       "4     1 -0.130425 -0.398694  0.503642"
      ]
     },
     "execution_count": 70,
     "metadata": {},
     "output_type": "execute_result"
    }
   ],
   "source": [
    "data_n_p = pd.concat([data_n['Type'],pd.DataFrame(pca_values[:,0:3],columns=['PCA1','PCA2','PCA3'])],axis=1)\n",
    "data_n_p.head()"
   ]
  },
  {
   "cell_type": "code",
   "execution_count": 74,
   "id": "7dced1c1",
   "metadata": {},
   "outputs": [],
   "source": [
    "#for both standardized and normalised data, their first three features give 68% information of the whole dataset \n",
    "#we are going forward with normalised data"
   ]
  },
  {
   "cell_type": "code",
   "execution_count": 72,
   "id": "a0f2ab49",
   "metadata": {},
   "outputs": [
    {
     "data": {
      "text/plain": [
       "[<matplotlib.lines.Line2D at 0x29f2ef4abb0>]"
      ]
     },
     "execution_count": 72,
     "metadata": {},
     "output_type": "execute_result"
    },
    {
     "data": {
      "image/png": "[encoded data removed]",
      "text/plain": [
       "<Figure size 432x288 with 1 Axes>"
      ]
     },
     "metadata": {
      "needs_background": "light"
     },
     "output_type": "display_data"
    }
   ],
   "source": [
    "# Variance plot for PCA components obtained \n",
    "\n",
    "plt.plot(cum_var,color=\"magenta\")                                "
   ]
  },
  {
   "cell_type": "markdown",
   "id": "eb243ff6",
   "metadata": {},
   "source": [
    "### 4.Hierarchical Clustering"
   ]
  },
  {
   "cell_type": "markdown",
   "id": "ee3aee51",
   "metadata": {},
   "source": [
    "#### creating dendrogram"
   ]
  },
  {
   "cell_type": "markdown",
   "id": "ae3f4c97",
   "metadata": {},
   "source": [
    "#### a) for standardized data"
   ]
  },
  {
   "cell_type": "code",
   "execution_count": 75,
   "id": "68af0222",
   "metadata": {},
   "outputs": [
    {
     "data": {
      "image/png": "[encoded data removed]",
      "text/plain": [
       "<Figure size 720x576 with 1 Axes>"
      ]
     },
     "metadata": {
      "needs_background": "light"
     },
     "output_type": "display_data"
    }
   ],
   "source": [
    "import scipy.cluster.hierarchy as sch\n",
    "plt.figure(figsize=(10,8))\n",
    "dendrogram = sch.dendrogram(sch.linkage(data_s_p.iloc[:,1:], method='complete'))"
   ]
  },
  {
   "cell_type": "markdown",
   "id": "f5c89c93",
   "metadata": {},
   "source": [
    "#### b)for normalised data"
   ]
  },
  {
   "cell_type": "code",
   "execution_count": 76,
   "id": "a08a70d0",
   "metadata": {},
   "outputs": [
    {
     "data": {
      "image/png": "[encoded data removed]",
      "text/plain": [
       "<Figure size 720x576 with 1 Axes>"
      ]
     },
     "metadata": {
      "needs_background": "light"
     },
     "output_type": "display_data"
    }
   ],
   "source": [
    "import scipy.cluster.hierarchy as sch\n",
    "plt.figure(figsize=(10,8))\n",
    "dendrogram = sch.dendrogram(sch.linkage(data_n_p.iloc[:,1:], method='complete'))"
   ]
  },
  {
   "cell_type": "markdown",
   "id": "7d351a5d",
   "metadata": {},
   "source": [
    "#### creating clusters"
   ]
  },
  {
   "cell_type": "code",
   "execution_count": 77,
   "id": "3d9e6a50",
   "metadata": {},
   "outputs": [
    {
     "data": {
      "text/plain": [
       "AgglomerativeClustering(linkage='complete', n_clusters=4)"
      ]
     },
     "execution_count": 77,
     "metadata": {},
     "output_type": "execute_result"
    }
   ],
   "source": [
    "from sklearn.cluster import AgglomerativeClustering\n",
    "model = AgglomerativeClustering(n_clusters=4, affinity = 'euclidean', linkage = 'complete')\n",
    "model"
   ]
  },
  {
   "cell_type": "code",
   "execution_count": 78,
   "id": "09eccf1b",
   "metadata": {},
   "outputs": [
    {
     "data": {
      "text/plain": [
       "2    51\n",
       "0    51\n",
       "3    38\n",
       "1    38\n",
       "Name: Clusters, dtype: int64"
      ]
     },
     "execution_count": 78,
     "metadata": {},
     "output_type": "execute_result"
    }
   ],
   "source": [
    "y_pred = model.fit_predict(data_n_p.iloc[:,1:])\n",
    "clusters=pd.DataFrame(y_pred,columns=['Clusters'])\n",
    "clusters['Clusters'].value_counts()"
   ]
  },
  {
   "cell_type": "code",
   "execution_count": 79,
   "id": "9b1843c4",
   "metadata": {},
   "outputs": [
    {
     "data": {
      "text/html": [
       "<div>\n",
       "<style scoped>\n",
       "    .dataframe tbody tr th:only-of-type {\n",
       "        vertical-align: middle;\n",
       "    }\n",
       "\n",
       "    .dataframe tbody tr th {\n",
       "        vertical-align: top;\n",
       "    }\n",
       "\n",
       "    .dataframe thead th {\n",
       "        text-align: right;\n",
       "    }\n",
       "</style>\n",
       "<table border=\"1\" class=\"dataframe\">\n",
       "  <thead>\n",
       "    <tr style=\"text-align: right;\">\n",
       "      <th></th>\n",
       "      <th>Type</th>\n",
       "      <th>Alcohol</th>\n",
       "      <th>Malic</th>\n",
       "      <th>Ash</th>\n",
       "      <th>Alcalinity</th>\n",
       "      <th>Magnesium</th>\n",
       "      <th>Phenols</th>\n",
       "      <th>Flavanoids</th>\n",
       "      <th>Nonflavanoids</th>\n",
       "      <th>Proanthocyanins</th>\n",
       "      <th>Color</th>\n",
       "      <th>Hue</th>\n",
       "      <th>Dilution</th>\n",
       "      <th>Proline</th>\n",
       "      <th>clusterid</th>\n",
       "    </tr>\n",
       "  </thead>\n",
       "  <tbody>\n",
       "    <tr>\n",
       "      <th>0</th>\n",
       "      <td>1</td>\n",
       "      <td>14.23</td>\n",
       "      <td>1.71</td>\n",
       "      <td>2.43</td>\n",
       "      <td>16.0</td>\n",
       "      <td>118.0</td>\n",
       "      <td>2.80</td>\n",
       "      <td>3.06</td>\n",
       "      <td>0.28</td>\n",
       "      <td>2.290</td>\n",
       "      <td>5.64</td>\n",
       "      <td>1.04</td>\n",
       "      <td>3.92</td>\n",
       "      <td>1065</td>\n",
       "      <td>3</td>\n",
       "    </tr>\n",
       "    <tr>\n",
       "      <th>1</th>\n",
       "      <td>1</td>\n",
       "      <td>13.20</td>\n",
       "      <td>1.78</td>\n",
       "      <td>2.14</td>\n",
       "      <td>16.0</td>\n",
       "      <td>100.0</td>\n",
       "      <td>2.65</td>\n",
       "      <td>2.76</td>\n",
       "      <td>0.26</td>\n",
       "      <td>1.280</td>\n",
       "      <td>4.38</td>\n",
       "      <td>1.05</td>\n",
       "      <td>3.40</td>\n",
       "      <td>1050</td>\n",
       "      <td>2</td>\n",
       "    </tr>\n",
       "    <tr>\n",
       "      <th>2</th>\n",
       "      <td>1</td>\n",
       "      <td>13.16</td>\n",
       "      <td>2.36</td>\n",
       "      <td>2.67</td>\n",
       "      <td>18.6</td>\n",
       "      <td>101.0</td>\n",
       "      <td>2.80</td>\n",
       "      <td>3.24</td>\n",
       "      <td>0.30</td>\n",
       "      <td>2.305</td>\n",
       "      <td>5.68</td>\n",
       "      <td>1.03</td>\n",
       "      <td>3.17</td>\n",
       "      <td>1185</td>\n",
       "      <td>1</td>\n",
       "    </tr>\n",
       "    <tr>\n",
       "      <th>3</th>\n",
       "      <td>1</td>\n",
       "      <td>14.37</td>\n",
       "      <td>1.95</td>\n",
       "      <td>2.50</td>\n",
       "      <td>16.8</td>\n",
       "      <td>113.0</td>\n",
       "      <td>3.85</td>\n",
       "      <td>3.49</td>\n",
       "      <td>0.24</td>\n",
       "      <td>2.180</td>\n",
       "      <td>7.80</td>\n",
       "      <td>0.86</td>\n",
       "      <td>3.45</td>\n",
       "      <td>1480</td>\n",
       "      <td>3</td>\n",
       "    </tr>\n",
       "    <tr>\n",
       "      <th>4</th>\n",
       "      <td>1</td>\n",
       "      <td>13.24</td>\n",
       "      <td>2.59</td>\n",
       "      <td>2.70</td>\n",
       "      <td>21.0</td>\n",
       "      <td>118.0</td>\n",
       "      <td>2.80</td>\n",
       "      <td>2.69</td>\n",
       "      <td>0.39</td>\n",
       "      <td>1.820</td>\n",
       "      <td>4.32</td>\n",
       "      <td>1.04</td>\n",
       "      <td>2.93</td>\n",
       "      <td>735</td>\n",
       "      <td>1</td>\n",
       "    </tr>\n",
       "  </tbody>\n",
       "</table>\n",
       "</div>"
      ],
      "text/plain": [
       "   Type  Alcohol  Malic   Ash  Alcalinity  Magnesium  Phenols  Flavanoids  \\\n",
       "0     1    14.23   1.71  2.43        16.0      118.0     2.80        3.06   \n",
       "1     1    13.20   1.78  2.14        16.0      100.0     2.65        2.76   \n",
       "2     1    13.16   2.36  2.67        18.6      101.0     2.80        3.24   \n",
       "3     1    14.37   1.95  2.50        16.8      113.0     3.85        3.49   \n",
       "4     1    13.24   2.59  2.70        21.0      118.0     2.80        2.69   \n",
       "\n",
       "   Nonflavanoids  Proanthocyanins  Color   Hue  Dilution  Proline  clusterid  \n",
       "0           0.28            2.290   5.64  1.04      3.92     1065          3  \n",
       "1           0.26            1.280   4.38  1.05      3.40     1050          2  \n",
       "2           0.30            2.305   5.68  1.03      3.17     1185          1  \n",
       "3           0.24            2.180   7.80  0.86      3.45     1480          3  \n",
       "4           0.39            1.820   4.32  1.04      2.93      735          1  "
      ]
     },
     "execution_count": 79,
     "metadata": {},
     "output_type": "execute_result"
    }
   ],
   "source": [
    "data4 = data.copy()\n",
    "data4['clusterid'] = model.labels_\n",
    "data4.head()"
   ]
  },
  {
   "cell_type": "markdown",
   "id": "a872dc74",
   "metadata": {},
   "source": [
    "### 5. k-means clustering"
   ]
  },
  {
   "cell_type": "markdown",
   "id": "6b4c3c79",
   "metadata": {},
   "source": [
    "#### WCSS (finding optimum number of clusters)"
   ]
  },
  {
   "cell_type": "markdown",
   "id": "e10fec5a",
   "metadata": {},
   "source": [
    "#### a)for standardized data"
   ]
  },
  {
   "cell_type": "code",
   "execution_count": 80,
   "id": "91672e6f",
   "metadata": {},
   "outputs": [
    {
     "data": {
      "image/png": "[encoded data removed]",
      "text/plain": [
       "<Figure size 432x288 with 1 Axes>"
      ]
     },
     "metadata": {
      "needs_background": "light"
     },
     "output_type": "display_data"
    }
   ],
   "source": [
    "from sklearn.cluster import KMeans\n",
    "wcss = []\n",
    "for i in range(1, 8):\n",
    "    kmeans = KMeans(n_clusters=i,random_state=0)\n",
    "    kmeans.fit(data_s_p.iloc[:,1:])\n",
    "    wcss.append(kmeans.inertia_)\n",
    "    \n",
    "plt.plot(range(1, 8), wcss)\n",
    "plt.title('Elbow Method')\n",
    "plt.xlabel('Number of clusters')\n",
    "plt.ylabel('WCSS')\n",
    "plt.show()"
   ]
  },
  {
   "cell_type": "markdown",
   "id": "fc79a664",
   "metadata": {},
   "source": [
    "#### b) for normalised data`"
   ]
  },
  {
   "cell_type": "code",
   "execution_count": 81,
   "id": "c4bc4646",
   "metadata": {},
   "outputs": [
    {
     "data": {
      "image/png": "[encoded data removed]",
      "text/plain": [
       "<Figure size 432x288 with 1 Axes>"
      ]
     },
     "metadata": {
      "needs_background": "light"
     },
     "output_type": "display_data"
    }
   ],
   "source": [
    "from sklearn.cluster import KMeans\n",
    "wcss = []\n",
    "for i in range(1, 8):\n",
    "    kmeans = KMeans(n_clusters=i,random_state=0)\n",
    "    kmeans.fit(data_n_p.iloc[:,1:])\n",
    "    wcss.append(kmeans.inertia_)\n",
    "    \n",
    "plt.plot(range(1, 8), wcss)\n",
    "plt.title('Elbow Method')\n",
    "plt.xlabel('Number of clusters')\n",
    "plt.ylabel('WCSS')\n",
    "plt.show()"
   ]
  },
  {
   "cell_type": "code",
   "execution_count": 82,
   "id": "579e9e88",
   "metadata": {},
   "outputs": [],
   "source": [
    "#very slight change in WCSS value from k = 4 to 5\n",
    "#hence k = 4"
   ]
  },
  {
   "cell_type": "markdown",
   "id": "fe294bf2",
   "metadata": {},
   "source": [
    "#### building cluster (K-means square)"
   ]
  },
  {
   "cell_type": "code",
   "execution_count": 83,
   "id": "4a30d135",
   "metadata": {},
   "outputs": [
    {
     "data": {
      "text/plain": [
       "KMeans(n_clusters=4, random_state=42)"
      ]
     },
     "execution_count": 83,
     "metadata": {},
     "output_type": "execute_result"
    }
   ],
   "source": [
    "from sklearn.cluster import KMeans\n",
    "model = KMeans(4, random_state=42)\n",
    "model.fit(data_n_p.iloc[:,1:])"
   ]
  },
  {
   "cell_type": "code",
   "execution_count": 84,
   "id": "8a7e0174",
   "metadata": {},
   "outputs": [
    {
     "data": {
      "text/plain": [
       "array([0, 3, 0, 0, 2, 0, 0, 0, 0, 0, 0, 0, 0, 0, 0, 0, 0, 0, 0, 0, 0, 0,\n",
       "       0, 0, 2, 2, 0, 3, 0, 0, 0, 0, 0, 0, 0, 0, 0, 0, 3, 0, 0, 3, 0, 0,\n",
       "       0, 0, 0, 0, 0, 0, 0, 0, 0, 0, 0, 0, 0, 0, 0, 3, 3, 3, 3, 3, 2, 2,\n",
       "       3, 3, 3, 3, 3, 2, 2, 2, 2, 3, 3, 3, 3, 2, 3, 3, 2, 1, 2, 3, 2, 2,\n",
       "       2, 2, 3, 2, 2, 3, 3, 3, 2, 3, 3, 3, 3, 3, 2, 3, 3, 2, 3, 2, 3, 2,\n",
       "       3, 3, 2, 2, 2, 2, 3, 2, 3, 3, 2, 2, 2, 2, 2, 2, 2, 2, 2, 2, 3, 1,\n",
       "       1, 1, 3, 1, 1, 1, 1, 1, 1, 1, 1, 1, 1, 1, 1, 1, 1, 1, 1, 1, 1, 1,\n",
       "       1, 1, 1, 1, 1, 1, 1, 1, 1, 1, 1, 1, 1, 1, 1, 1, 1, 1, 1, 1, 1, 1,\n",
       "       1, 1])"
      ]
     },
     "execution_count": 84,
     "metadata": {},
     "output_type": "execute_result"
    }
   ],
   "source": [
    "model.labels_"
   ]
  },
  {
   "cell_type": "code",
   "execution_count": 85,
   "id": "3d2689ed",
   "metadata": {},
   "outputs": [
    {
     "data": {
      "text/html": [
       "<div>\n",
       "<style scoped>\n",
       "    .dataframe tbody tr th:only-of-type {\n",
       "        vertical-align: middle;\n",
       "    }\n",
       "\n",
       "    .dataframe tbody tr th {\n",
       "        vertical-align: top;\n",
       "    }\n",
       "\n",
       "    .dataframe thead th {\n",
       "        text-align: right;\n",
       "    }\n",
       "</style>\n",
       "<table border=\"1\" class=\"dataframe\">\n",
       "  <thead>\n",
       "    <tr style=\"text-align: right;\">\n",
       "      <th></th>\n",
       "      <th>Type</th>\n",
       "      <th>Alcohol</th>\n",
       "      <th>Malic</th>\n",
       "      <th>Ash</th>\n",
       "      <th>Alcalinity</th>\n",
       "      <th>Magnesium</th>\n",
       "      <th>Phenols</th>\n",
       "      <th>Flavanoids</th>\n",
       "      <th>Nonflavanoids</th>\n",
       "      <th>Proanthocyanins</th>\n",
       "      <th>Color</th>\n",
       "      <th>Hue</th>\n",
       "      <th>Dilution</th>\n",
       "      <th>Proline</th>\n",
       "      <th>clusterid</th>\n",
       "    </tr>\n",
       "  </thead>\n",
       "  <tbody>\n",
       "    <tr>\n",
       "      <th>0</th>\n",
       "      <td>1</td>\n",
       "      <td>14.23</td>\n",
       "      <td>1.71</td>\n",
       "      <td>2.43</td>\n",
       "      <td>16.0</td>\n",
       "      <td>118.0</td>\n",
       "      <td>2.80</td>\n",
       "      <td>3.06</td>\n",
       "      <td>0.28</td>\n",
       "      <td>2.290</td>\n",
       "      <td>5.64</td>\n",
       "      <td>1.04</td>\n",
       "      <td>3.92</td>\n",
       "      <td>1065</td>\n",
       "      <td>0</td>\n",
       "    </tr>\n",
       "    <tr>\n",
       "      <th>1</th>\n",
       "      <td>1</td>\n",
       "      <td>13.20</td>\n",
       "      <td>1.78</td>\n",
       "      <td>2.14</td>\n",
       "      <td>16.0</td>\n",
       "      <td>100.0</td>\n",
       "      <td>2.65</td>\n",
       "      <td>2.76</td>\n",
       "      <td>0.26</td>\n",
       "      <td>1.280</td>\n",
       "      <td>4.38</td>\n",
       "      <td>1.05</td>\n",
       "      <td>3.40</td>\n",
       "      <td>1050</td>\n",
       "      <td>3</td>\n",
       "    </tr>\n",
       "    <tr>\n",
       "      <th>2</th>\n",
       "      <td>1</td>\n",
       "      <td>13.16</td>\n",
       "      <td>2.36</td>\n",
       "      <td>2.67</td>\n",
       "      <td>18.6</td>\n",
       "      <td>101.0</td>\n",
       "      <td>2.80</td>\n",
       "      <td>3.24</td>\n",
       "      <td>0.30</td>\n",
       "      <td>2.305</td>\n",
       "      <td>5.68</td>\n",
       "      <td>1.03</td>\n",
       "      <td>3.17</td>\n",
       "      <td>1185</td>\n",
       "      <td>0</td>\n",
       "    </tr>\n",
       "    <tr>\n",
       "      <th>3</th>\n",
       "      <td>1</td>\n",
       "      <td>14.37</td>\n",
       "      <td>1.95</td>\n",
       "      <td>2.50</td>\n",
       "      <td>16.8</td>\n",
       "      <td>113.0</td>\n",
       "      <td>3.85</td>\n",
       "      <td>3.49</td>\n",
       "      <td>0.24</td>\n",
       "      <td>2.180</td>\n",
       "      <td>7.80</td>\n",
       "      <td>0.86</td>\n",
       "      <td>3.45</td>\n",
       "      <td>1480</td>\n",
       "      <td>0</td>\n",
       "    </tr>\n",
       "    <tr>\n",
       "      <th>4</th>\n",
       "      <td>1</td>\n",
       "      <td>13.24</td>\n",
       "      <td>2.59</td>\n",
       "      <td>2.70</td>\n",
       "      <td>21.0</td>\n",
       "      <td>118.0</td>\n",
       "      <td>2.80</td>\n",
       "      <td>2.69</td>\n",
       "      <td>0.39</td>\n",
       "      <td>1.820</td>\n",
       "      <td>4.32</td>\n",
       "      <td>1.04</td>\n",
       "      <td>2.93</td>\n",
       "      <td>735</td>\n",
       "      <td>2</td>\n",
       "    </tr>\n",
       "  </tbody>\n",
       "</table>\n",
       "</div>"
      ],
      "text/plain": [
       "   Type  Alcohol  Malic   Ash  Alcalinity  Magnesium  Phenols  Flavanoids  \\\n",
       "0     1    14.23   1.71  2.43        16.0      118.0     2.80        3.06   \n",
       "1     1    13.20   1.78  2.14        16.0      100.0     2.65        2.76   \n",
       "2     1    13.16   2.36  2.67        18.6      101.0     2.80        3.24   \n",
       "3     1    14.37   1.95  2.50        16.8      113.0     3.85        3.49   \n",
       "4     1    13.24   2.59  2.70        21.0      118.0     2.80        2.69   \n",
       "\n",
       "   Nonflavanoids  Proanthocyanins  Color   Hue  Dilution  Proline  clusterid  \n",
       "0           0.28            2.290   5.64  1.04      3.92     1065          0  \n",
       "1           0.26            1.280   4.38  1.05      3.40     1050          3  \n",
       "2           0.30            2.305   5.68  1.03      3.17     1185          0  \n",
       "3           0.24            2.180   7.80  0.86      3.45     1480          0  \n",
       "4           0.39            1.820   4.32  1.04      2.93      735          2  "
      ]
     },
     "execution_count": 85,
     "metadata": {},
     "output_type": "execute_result"
    }
   ],
   "source": [
    "data5 = data.copy()\n",
    "data5['clusterid'] = model.labels_\n",
    "data5.head()"
   ]
  },
  {
   "cell_type": "code",
   "execution_count": 86,
   "id": "5f206f96",
   "metadata": {},
   "outputs": [
    {
     "data": {
      "text/plain": [
       "0    52\n",
       "1    47\n",
       "3    41\n",
       "2    38\n",
       "Name: clusterid, dtype: int64"
      ]
     },
     "execution_count": 86,
     "metadata": {},
     "output_type": "execute_result"
    }
   ],
   "source": [
    "data5['clusterid'].value_counts()           #three number of clusters"
   ]
  },
  {
   "cell_type": "code",
   "execution_count": null,
   "id": "6d297506",
   "metadata": {},
   "outputs": [],
   "source": []
  }
 ],
 "metadata": {
  "kernelspec": {
   "display_name": "Python 3 (ipykernel)",
   "language": "python",
   "name": "python3"
  },
  "language_info": {
   "codemirror_mode": {
    "name": "ipython",
    "version": 3
   },
   "file_extension": ".py",
   "mimetype": "text/x-python",
   "name": "python",
   "nbconvert_exporter": "python",
   "pygments_lexer": "ipython3",
   "version": "3.9.7"
  }
 },
 "nbformat": 4,
 "nbformat_minor": 5
}
